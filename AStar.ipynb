{
 "cells": [
  {
   "cell_type": "code",
   "execution_count": 3,
   "id": "44817b8f-a445-4538-873b-dbee8bc46202",
   "metadata": {},
   "outputs": [],
   "source": [
    "# A Star Algorithm -> \n",
    "# 1> It's like find the cost of traversing from the source to the destination which should be\n",
    "# minimum every time, now we do this with the help of heuristic value\n"
   ]
  },
  {
   "cell_type": "code",
   "execution_count": 8,
   "id": "b4a61e9d-a1ee-4787-bfcf-280ca7ae19a3",
   "metadata": {},
   "outputs": [
    {
     "name": "stdout",
     "output_type": "stream",
     "text": [
      "2.0\n"
     ]
    }
   ],
   "source": []
  },
  {
   "cell_type": "code",
   "execution_count": null,
   "id": "b347e253-2e5c-4b55-98d0-2563e0ff3692",
   "metadata": {},
   "outputs": [],
   "source": []
  },
  {
   "cell_type": "code",
   "execution_count": null,
   "id": "57c50f85-07c8-4420-99ad-00a91d22c2e9",
   "metadata": {},
   "outputs": [],
   "source": []
  }
 ],
 "metadata": {
  "kernelspec": {
   "display_name": "Python 3 (ipykernel)",
   "language": "python",
   "name": "python3"
  },
  "language_info": {
   "codemirror_mode": {
    "name": "ipython",
    "version": 3
   },
   "file_extension": ".py",
   "mimetype": "text/x-python",
   "name": "python",
   "nbconvert_exporter": "python",
   "pygments_lexer": "ipython3",
   "version": "3.11.8"
  }
 },
 "nbformat": 4,
 "nbformat_minor": 5
}
