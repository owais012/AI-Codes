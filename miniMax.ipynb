{
 "cells": [
  {
   "cell_type": "code",
   "execution_count": 1,
   "id": "cd891213-ac0e-4917-b634-c1619b9c7611",
   "metadata": {},
   "outputs": [
    {
     "name": "stdout",
     "output_type": "stream",
     "text": [
      "The optimal value is : 4\n",
      "The path from  the terminal value to the root node is : L->L->R->\n"
     ]
    }
   ],
   "source": [
    "import math\n",
    "def miniMax(curDepth, nodeIndex, maxTurn, scores, targetDepth, path):\n",
    "        # Base case for recursion\n",
    "    if curDepth == targetDepth:\n",
    "        return scores[nodeIndex], path\n",
    "\n",
    "    if maxTurn:\n",
    "        leftScore,  leftPath = miniMax(curDepth+1, nodeIndex*2, False, scores,  targetDepth, path + \"L->\")\n",
    "        rightScore, rightPath = miniMax(curDepth+1, nodeIndex*2+1, False, scores, targetDepth, path + \"R->\" )\n",
    "        if(leftScore > rightScore):\n",
    "            return leftScore,  leftPath \n",
    "        else :\n",
    "            return rightScore, rightPath\n",
    "\n",
    "    else:\n",
    "        leftScore,  leftPath = miniMax(curDepth+1, nodeIndex*2, True, scores, targetDepth, path + \"L->\")\n",
    "        rightScore, rightPath = miniMax(curDepth+1, nodeIndex*2+1, True,scores, targetDepth, path + \"R->\" )\n",
    "        if(leftScore < rightScore):\n",
    "            return leftScore,  leftPath \n",
    "        else :\n",
    "            return rightScore, rightPath\n",
    "\n",
    "# Driver code\n",
    "scores = [-1, 4, 2, 6, -3, -5, 0, 7]\n",
    "treeDepth = math.log(len(scores), 2)\n",
    "result, path =miniMax(0,0,True, scores, treeDepth, \"\")\n",
    "\n",
    "print(\"The optimal value is :\", result)\n",
    "print(\"The path from  the terminal value to the root node is :\", path)"
   ]
  },
  {
   "cell_type": "code",
   "execution_count": null,
   "id": "c288bdb7-32c1-4ac2-83b9-02e0cab934f3",
   "metadata": {},
   "outputs": [],
   "source": []
  }
 ],
 "metadata": {
  "kernelspec": {
   "display_name": "Python 3 (ipykernel)",
   "language": "python",
   "name": "python3"
  },
  "language_info": {
   "codemirror_mode": {
    "name": "ipython",
    "version": 3
   },
   "file_extension": ".py",
   "mimetype": "text/x-python",
   "name": "python",
   "nbconvert_exporter": "python",
   "pygments_lexer": "ipython3",
   "version": "3.11.8"
  }
 },
 "nbformat": 4,
 "nbformat_minor": 5
}
