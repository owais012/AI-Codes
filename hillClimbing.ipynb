{
 "cells": [
  {
   "cell_type": "code",
   "execution_count": 17,
   "id": "c93bab11-9678-4566-acad-08fc892289b5",
   "metadata": {},
   "outputs": [
    {
     "name": "stdout",
     "output_type": "stream",
     "text": [
      "The optimal path is [0, 1, 3, 2] \n",
      " Total Distance is: 80\n"
     ]
    }
   ],
   "source": [
    "import random\n",
    "\n",
    "distance = [\n",
    "    [0,10,15,20],\n",
    "    [10,0,35,25],\n",
    "    [15,35,0,30],\n",
    "    [20,25,30,0]\n",
    "]\n",
    "\n",
    "def total_dist(path):\n",
    "    total = 0\n",
    "    for i in  range(len(path)-1):\n",
    "        total += distance[path[i]][path[i+1]]\n",
    "\n",
    "    total += distance[path[len(path)-1]][path[0]]\n",
    "    return total\n",
    "\n",
    "def hill_climbing(num_cities, max_iteration = 20):\n",
    "    curr_path = list(range(num_cities))\n",
    "    curr_dist = total_dist(curr_path)\n",
    "\n",
    "    for _ in range(max_iteration):\n",
    "        neighbor_path = curr_path.copy()\n",
    "        i, j = random.sample(list(range(num_cities)), 2)\n",
    "        neighbor_path[i], neighbor_path[j] = neighbor_path[j], neighbor_path[i]\n",
    "        neighbor_dist = total_dist(neighbor_path)\n",
    "\n",
    "        if curr_dist > neighbor_dist:\n",
    "            curr_dist = neighbor_dist\n",
    "            curr_path = neighbor_path\n",
    "\n",
    "    return curr_path\n",
    "\n",
    "num_cities = 4\n",
    "solution = hill_climbing(num_cities)\n",
    "print(f\"The optimal path is {solution} \\n Total Distance is: {total_dist(solution)}\")"
   ]
  },
  {
   "cell_type": "code",
   "execution_count": null,
   "id": "d952ca79-00cc-4241-8211-3d132b91e84f",
   "metadata": {},
   "outputs": [],
   "source": []
  }
 ],
 "metadata": {
  "kernelspec": {
   "display_name": "Python 3 (ipykernel)",
   "language": "python",
   "name": "python3"
  },
  "language_info": {
   "codemirror_mode": {
    "name": "ipython",
    "version": 3
   },
   "file_extension": ".py",
   "mimetype": "text/x-python",
   "name": "python",
   "nbconvert_exporter": "python",
   "pygments_lexer": "ipython3",
   "version": "3.11.8"
  }
 },
 "nbformat": 4,
 "nbformat_minor": 5
}
