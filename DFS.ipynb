{
 "cells": [
  {
   "cell_type": "code",
   "execution_count": 1,
   "id": "825205c7-2ced-4c6c-8487-28bd113c8825",
   "metadata": {},
   "outputs": [
    {
     "name": "stdout",
     "output_type": "stream",
     "text": [
      "[0, 1, 2, 4, 3]\n"
     ]
    }
   ],
   "source": [
    "def dfs(node, vis, adj):\n",
    "    vis[node] =  True\n",
    "    ans.append(node)\n",
    "    for it in adj[node]:\n",
    "        if vis[it] == False:\n",
    "            dfs(it, vis, adj)\n",
    "\n",
    "\n",
    "adj = [[1,2,3], [], [4], [], []] \n",
    "V = 5   # No of verices\n",
    "vis = [False]*V\n",
    "ans = []\n",
    "\n",
    "dfs(0, vis, adj)\n",
    "print(ans)"
   ]
  },
  {
   "cell_type": "code",
   "execution_count": null,
   "id": "d12cc251-5122-410c-8d11-2f88641ae219",
   "metadata": {},
   "outputs": [],
   "source": []
  }
 ],
 "metadata": {
  "kernelspec": {
   "display_name": "Python 3 (ipykernel)",
   "language": "python",
   "name": "python3"
  },
  "language_info": {
   "codemirror_mode": {
    "name": "ipython",
    "version": 3
   },
   "file_extension": ".py",
   "mimetype": "text/x-python",
   "name": "python",
   "nbconvert_exporter": "python",
   "pygments_lexer": "ipython3",
   "version": "3.11.8"
  }
 },
 "nbformat": 4,
 "nbformat_minor": 5
}
