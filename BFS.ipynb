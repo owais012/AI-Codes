{
 "cells": [
  {
   "cell_type": "code",
   "execution_count": 15,
   "id": "ef676b3f-ef79-44cd-9bc4-426e5e17e56d",
   "metadata": {},
   "outputs": [],
   "source": [
    "# queue.pop(0) -> for popping\n",
    "# queue.append(val) -> for appending\n",
    "V = 5   # No of verices\n",
    "E = 4   # No of edges\n",
    "\n",
    "adj = [[1,2,3], [], [4], [], []]  # adjacency\n",
    "\n",
    "queue = []   # Queue Data structure "
   ]
  },
  {
   "cell_type": "code",
   "execution_count": 17,
   "id": "d8beaf21-67ad-49bb-ba95-310e7a86c6ac",
   "metadata": {},
   "outputs": [],
   "source": [
    "queue.append(0)\n",
    "vis = [False]*V\n",
    "vis[0] = True\n",
    "ans = []\n",
    "\n",
    "while len(queue) > 0 :\n",
    "    node = queue.pop(0)\n",
    "    ans.append(node)\n",
    "\n",
    "    for it in adj[node]:\n",
    "        if vis[it] == False :\n",
    "            vis[it] = True\n",
    "            queue.append(it)\n",
    "    "
   ]
  },
  {
   "cell_type": "code",
   "execution_count": 18,
   "id": "e4542dce-d837-44c9-9ad1-00ecc7d91b0a",
   "metadata": {},
   "outputs": [
    {
     "data": {
      "text/plain": [
       "[0, 1, 2, 3, 4]"
      ]
     },
     "execution_count": 18,
     "metadata": {},
     "output_type": "execute_result"
    }
   ],
   "source": [
    "ans"
   ]
  },
  {
   "cell_type": "code",
   "execution_count": null,
   "id": "b215c827-d3e0-4d01-a2f7-371b5b6c2f57",
   "metadata": {},
   "outputs": [],
   "source": []
  }
 ],
 "metadata": {
  "kernelspec": {
   "display_name": "Python 3 (ipykernel)",
   "language": "python",
   "name": "python3"
  },
  "language_info": {
   "codemirror_mode": {
    "name": "ipython",
    "version": 3
   },
   "file_extension": ".py",
   "mimetype": "text/x-python",
   "name": "python",
   "nbconvert_exporter": "python",
   "pygments_lexer": "ipython3",
   "version": "3.11.8"
  }
 },
 "nbformat": 4,
 "nbformat_minor": 5
}
