# queue.pop(0) -> for popping
# queue.append(val) -> for appending
V = 5   # No of verices
E = 4   # No of edges

adj = [[1,2,3], [], [4], [], []]  # adjacency

queue = []   # Queue Data structure 

queue.append(0)
vis = [False]*V
vis[0] = True
ans = []

while len(queue) > 0 :
    node = queue.pop(0)
    ans.append(node)

    for it in adj[node]:
        if vis[it] == False :
            vis[it] = True
            queue.append(it)

print(ans)
